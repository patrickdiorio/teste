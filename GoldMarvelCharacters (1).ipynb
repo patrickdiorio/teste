{
 "cells": [
  {
   "cell_type": "code",
   "execution_count": 0,
   "metadata": {
    "application/vnd.databricks.v1+cell": {
     "cellMetadata": {},
     "inputWidgets": {},
     "nuid": "39b57ca0-d4e0-4b71-a154-ad178aaf5afe",
     "showTitle": false,
     "title": ""
    }
   },
   "outputs": [],
   "source": [
    "from pyspark.sql.functions import col, current_date\n",
    "from pyspark.sql.types import IntegerType"
   ]
  },
  {
   "cell_type": "code",
   "execution_count": 0,
   "metadata": {
    "application/vnd.databricks.v1+cell": {
     "cellMetadata": {},
     "inputWidgets": {},
     "nuid": "414daafc-bd0a-4f1b-b71f-6b38c3babf4b",
     "showTitle": false,
     "title": ""
    }
   },
   "outputs": [],
   "source": [
    "# Table and schema variables\n",
    "schema = 'gold'\n",
    "table = 'characters'"
   ]
  },
  {
   "cell_type": "code",
   "execution_count": 0,
   "metadata": {
    "application/vnd.databricks.v1+cell": {
     "cellMetadata": {},
     "inputWidgets": {},
     "nuid": "700779b4-0851-4516-aa42-c600e7b05087",
     "showTitle": false,
     "title": ""
    }
   },
   "outputs": [],
   "source": [
    "df_characters = spark.sql(\n",
    "f\"\"\" \n",
    "\n",
    "    select * from silver.characters\n",
    "\n",
    "\"\"\")"
   ]
  },
  {
   "cell_type": "code",
   "execution_count": 0,
   "metadata": {
    "application/vnd.databricks.v1+cell": {
     "cellMetadata": {},
     "inputWidgets": {},
     "nuid": "bba93dd0-f30c-4f57-bb7f-9fca3377af33",
     "showTitle": false,
     "title": ""
    }
   },
   "outputs": [],
   "source": [
    "# Select columns\n",
    "\n",
    "df_final = df_characters.select(\n",
    "    col(\"name\").alias(\"character_name\"),\n",
    "    col(\"comics_quantity\").cast(IntegerType()).alias(\"quantity_appeared_comics\"),\n",
    ").withColumn('load_date', current_date())"
   ]
  },
  {
   "cell_type": "code",
   "execution_count": 0,
   "metadata": {
    "application/vnd.databricks.v1+cell": {
     "cellMetadata": {},
     "inputWidgets": {},
     "nuid": "4fd7c226-6d23-431a-8e78-13f5f6905b15",
     "showTitle": false,
     "title": ""
    }
   },
   "outputs": [],
   "source": [
    "# Saves the filtered DataFrame in Parquet format, overwriting if the file already exists\n",
    "df_final \\\n",
    "    .write \\\n",
    "        .format('delta') \\\n",
    "        .mode('overwrite') \\\n",
    "        .option('overwriteSchema', True) \\\n",
    "        .saveAsTable(f'{schema}.{table}')"
   ]
  },
  {
   "cell_type": "code",
   "execution_count": 0,
   "metadata": {
    "application/vnd.databricks.v1+cell": {
     "cellMetadata": {},
     "inputWidgets": {},
     "nuid": "1873c9d1-b879-4e04-8128-8f0b26913a0f",
     "showTitle": false,
     "title": ""
    }
   },
   "outputs": [],
   "source": [
    "%sql\n",
    "select * \n",
    "from gold.characters\n",
    "order by quantity_appeared_comics desc"
   ]
  }
 ],
 "metadata": {
  "application/vnd.databricks.v1+notebook": {
   "dashboards": [],
   "environmentMetadata": null,
   "language": "python",
   "notebookMetadata": {
    "pythonIndentUnit": 4
   },
   "notebookName": "GoldMarvelCharacters (1)",
   "widgets": {}
  }
 },
 "nbformat": 4,
 "nbformat_minor": 0
}
